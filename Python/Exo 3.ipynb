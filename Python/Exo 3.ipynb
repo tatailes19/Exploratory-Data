{
 "cells": [
  {
   "cell_type": "code",
   "execution_count": 2,
   "id": "6ec193ee",
   "metadata": {},
   "outputs": [],
   "source": [
    "import pandas as pd\n",
    "import numpy as np \n",
    "import matplotlib.pyplot as plt"
   ]
  },
  {
   "cell_type": "code",
   "execution_count": 15,
   "id": "fda2d913",
   "metadata": {},
   "outputs": [
    {
     "name": "stderr",
     "output_type": "stream",
     "text": [
      "C:\\Users\\tatai\\AppData\\Local\\Temp\\ipykernel_11920\\3023007025.py:6: SettingWithCopyWarning: \n",
      "A value is trying to be set on a copy of a slice from a DataFrame.\n",
      "Try using .loc[row_indexer,col_indexer] = value instead\n",
      "\n",
      "See the caveats in the documentation: https://pandas.pydata.org/pandas-docs/stable/user_guide/indexing.html#returning-a-view-versus-a-copy\n",
      "  vendus[\"diffprix\"]=vendus[\"prixvente\"]-vendus[\"prixdepart\"]\n",
      "C:\\Users\\tatai\\AppData\\Local\\Temp\\ipykernel_11920\\3023007025.py:10: SettingWithCopyWarning: \n",
      "A value is trying to be set on a copy of a slice from a DataFrame.\n",
      "Try using .loc[row_indexer,col_indexer] = value instead\n",
      "\n",
      "See the caveats in the documentation: https://pandas.pydata.org/pandas-docs/stable/user_guide/indexing.html#returning-a-view-versus-a-copy\n",
      "  enchere[\"diffprix\"]=enchere[\"prixvente\"]-enchere[\"prixdepart\"]\n"
     ]
    },
    {
     "data": {
      "text/html": [
       "<div>\n",
       "<style scoped>\n",
       "    .dataframe tbody tr th:only-of-type {\n",
       "        vertical-align: middle;\n",
       "    }\n",
       "\n",
       "    .dataframe tbody tr th {\n",
       "        vertical-align: top;\n",
       "    }\n",
       "\n",
       "    .dataframe thead th {\n",
       "        text-align: right;\n",
       "    }\n",
       "</style>\n",
       "<table border=\"1\" class=\"dataframe\">\n",
       "  <thead>\n",
       "    <tr style=\"text-align: right;\">\n",
       "      <th></th>\n",
       "      <th>enchere</th>\n",
       "      <th>vendus</th>\n",
       "      <th>prixdepart</th>\n",
       "      <th>prixvente</th>\n",
       "      <th>etat</th>\n",
       "      <th>taille</th>\n",
       "      <th>talon</th>\n",
       "      <th>style</th>\n",
       "      <th>couleur</th>\n",
       "      <th>materiel</th>\n",
       "    </tr>\n",
       "  </thead>\n",
       "  <tbody>\n",
       "    <tr>\n",
       "      <th>0</th>\n",
       "      <td>1</td>\n",
       "      <td>0</td>\n",
       "      <td>199.00</td>\n",
       "      <td>NaN</td>\n",
       "      <td>Pre-owned</td>\n",
       "      <td>9.5</td>\n",
       "      <td>Low</td>\n",
       "      <td>Open Toe</td>\n",
       "      <td>Black</td>\n",
       "      <td>Suede</td>\n",
       "    </tr>\n",
       "    <tr>\n",
       "      <th>1</th>\n",
       "      <td>0</td>\n",
       "      <td>0</td>\n",
       "      <td>375.00</td>\n",
       "      <td>NaN</td>\n",
       "      <td>New with box</td>\n",
       "      <td>7.5</td>\n",
       "      <td>High</td>\n",
       "      <td>Slingback</td>\n",
       "      <td>Other/Missing</td>\n",
       "      <td>Satin</td>\n",
       "    </tr>\n",
       "    <tr>\n",
       "      <th>2</th>\n",
       "      <td>1</td>\n",
       "      <td>1</td>\n",
       "      <td>299.99</td>\n",
       "      <td>780.0</td>\n",
       "      <td>Pre-owned</td>\n",
       "      <td>8.5</td>\n",
       "      <td>High</td>\n",
       "      <td>Pump</td>\n",
       "      <td>Black</td>\n",
       "      <td>Other/Missing</td>\n",
       "    </tr>\n",
       "    <tr>\n",
       "      <th>3</th>\n",
       "      <td>1</td>\n",
       "      <td>1</td>\n",
       "      <td>49.99</td>\n",
       "      <td>561.0</td>\n",
       "      <td>Pre-owned</td>\n",
       "      <td>8.5</td>\n",
       "      <td>High</td>\n",
       "      <td>Pump</td>\n",
       "      <td>Black</td>\n",
       "      <td>Snakeskin</td>\n",
       "    </tr>\n",
       "    <tr>\n",
       "      <th>4</th>\n",
       "      <td>0</td>\n",
       "      <td>0</td>\n",
       "      <td>89.00</td>\n",
       "      <td>NaN</td>\n",
       "      <td>Pre-owned</td>\n",
       "      <td>5.5</td>\n",
       "      <td>Flat</td>\n",
       "      <td>Other/Missing</td>\n",
       "      <td>Other/Missing</td>\n",
       "      <td>Leather</td>\n",
       "    </tr>\n",
       "    <tr>\n",
       "      <th>...</th>\n",
       "      <td>...</td>\n",
       "      <td>...</td>\n",
       "      <td>...</td>\n",
       "      <td>...</td>\n",
       "      <td>...</td>\n",
       "      <td>...</td>\n",
       "      <td>...</td>\n",
       "      <td>...</td>\n",
       "      <td>...</td>\n",
       "      <td>...</td>\n",
       "    </tr>\n",
       "    <tr>\n",
       "      <th>3791</th>\n",
       "      <td>0</td>\n",
       "      <td>0</td>\n",
       "      <td>78.50</td>\n",
       "      <td>NaN</td>\n",
       "      <td>New without box</td>\n",
       "      <td>NaN</td>\n",
       "      <td>NaN</td>\n",
       "      <td>Slingback</td>\n",
       "      <td>Other/Missing</td>\n",
       "      <td>Other/Missing</td>\n",
       "    </tr>\n",
       "    <tr>\n",
       "      <th>3792</th>\n",
       "      <td>0</td>\n",
       "      <td>0</td>\n",
       "      <td>899.00</td>\n",
       "      <td>NaN</td>\n",
       "      <td>New with box</td>\n",
       "      <td>8.0</td>\n",
       "      <td>High</td>\n",
       "      <td>Pump</td>\n",
       "      <td>Beige</td>\n",
       "      <td>Patent Leather</td>\n",
       "    </tr>\n",
       "    <tr>\n",
       "      <th>3793</th>\n",
       "      <td>0</td>\n",
       "      <td>0</td>\n",
       "      <td>1895.00</td>\n",
       "      <td>NaN</td>\n",
       "      <td>New with box</td>\n",
       "      <td>7.0</td>\n",
       "      <td>High</td>\n",
       "      <td>Pump</td>\n",
       "      <td>Beige</td>\n",
       "      <td>Snakeskin</td>\n",
       "    </tr>\n",
       "    <tr>\n",
       "      <th>3794</th>\n",
       "      <td>0</td>\n",
       "      <td>0</td>\n",
       "      <td>695.00</td>\n",
       "      <td>NaN</td>\n",
       "      <td>New with box</td>\n",
       "      <td>8.5</td>\n",
       "      <td>High</td>\n",
       "      <td>Pump</td>\n",
       "      <td>Black</td>\n",
       "      <td>Patent Leather</td>\n",
       "    </tr>\n",
       "    <tr>\n",
       "      <th>3795</th>\n",
       "      <td>0</td>\n",
       "      <td>1</td>\n",
       "      <td>1199.00</td>\n",
       "      <td>1199.0</td>\n",
       "      <td>New with box</td>\n",
       "      <td>5.5</td>\n",
       "      <td>High</td>\n",
       "      <td>Other/Missing</td>\n",
       "      <td>Brown</td>\n",
       "      <td>Leather</td>\n",
       "    </tr>\n",
       "  </tbody>\n",
       "</table>\n",
       "<p>3796 rows × 10 columns</p>\n",
       "</div>"
      ],
      "text/plain": [
       "      enchere  vendus  prixdepart  prixvente             etat  taille talon  \\\n",
       "0           1       0      199.00        NaN        Pre-owned     9.5   Low   \n",
       "1           0       0      375.00        NaN     New with box     7.5  High   \n",
       "2           1       1      299.99      780.0        Pre-owned     8.5  High   \n",
       "3           1       1       49.99      561.0        Pre-owned     8.5  High   \n",
       "4           0       0       89.00        NaN        Pre-owned     5.5  Flat   \n",
       "...       ...     ...         ...        ...              ...     ...   ...   \n",
       "3791        0       0       78.50        NaN  New without box     NaN   NaN   \n",
       "3792        0       0      899.00        NaN     New with box     8.0  High   \n",
       "3793        0       0     1895.00        NaN     New with box     7.0  High   \n",
       "3794        0       0      695.00        NaN     New with box     8.5  High   \n",
       "3795        0       1     1199.00     1199.0     New with box     5.5  High   \n",
       "\n",
       "              style        couleur        materiel  \n",
       "0          Open Toe          Black           Suede  \n",
       "1         Slingback  Other/Missing           Satin  \n",
       "2              Pump          Black   Other/Missing  \n",
       "3              Pump          Black       Snakeskin  \n",
       "4     Other/Missing  Other/Missing         Leather  \n",
       "...             ...            ...             ...  \n",
       "3791      Slingback  Other/Missing   Other/Missing  \n",
       "3792           Pump          Beige  Patent Leather  \n",
       "3793           Pump          Beige       Snakeskin  \n",
       "3794           Pump          Black  Patent Leather  \n",
       "3795  Other/Missing          Brown         Leather  \n",
       "\n",
       "[3796 rows x 10 columns]"
      ]
     },
     "execution_count": 15,
     "metadata": {},
     "output_type": "execute_result"
    }
   ],
   "source": [
    "#Lecture de la base de donnée \n",
    "df=pd.read_csv(\"D:/Python-R/Databases/for info/ebay.csv\")\n",
    "#vendus est une data frame qui contient que les chossures vendus \n",
    "vendus=df.loc[df[\"vendus\"]==1]\n",
    "non_vendus=df.loc[df[\"vendus\"]==0]\n",
    "vendus[\"diffprix\"]=vendus[\"prixvente\"]-vendus[\"prixdepart\"]\n",
    "#meme chose pour enchere\n",
    "enchere=df.loc[df[\"enchere\"]==1]\n",
    "non_enchere=df.loc[df[\"vendus\"]==0]\n",
    "enchere[\"diffprix\"]=enchere[\"prixvente\"]-enchere[\"prixdepart\"]\n",
    "df"
   ]
  },
  {
   "cell_type": "code",
   "execution_count": 16,
   "id": "180c5b2a",
   "metadata": {},
   "outputs": [
    {
     "name": "stdout",
     "output_type": "stream",
     "text": [
      "Il y'a 3796 articles dans cette base de donnees\n"
     ]
    }
   ],
   "source": [
    "#Question1\n",
    "cnv=list(df.shape)\n",
    "print(f\"Il y'a {cnv[0]} articles dans cette base de donnees\")"
   ]
  },
  {
   "cell_type": "code",
   "execution_count": 17,
   "id": "0d80bc6b",
   "metadata": {},
   "outputs": [
    {
     "name": "stdout",
     "output_type": "stream",
     "text": [
      "Nombre de chossures non vendus est 2997\n"
     ]
    }
   ],
   "source": [
    "#Q2.1\n",
    "chossures_non_vendus=cnv[0]-df[\"vendus\"].sum()\n",
    "print(f\"Nombre de chossures non vendus est {chossures_non_vendus}\")"
   ]
  },
  {
   "cell_type": "code",
   "execution_count": 18,
   "id": "124d2b0f",
   "metadata": {},
   "outputs": [
    {
     "name": "stdout",
     "output_type": "stream",
     "text": [
      "avec un pourcentage de 78.95%\n"
     ]
    }
   ],
   "source": [
    "#Q2.2 (pourcentage) \n",
    "print(f\"avec un pourcentage de {(chossures_non_vendus*100/cnv[0]).round(2)}%\")"
   ]
  },
  {
   "cell_type": "code",
   "execution_count": 19,
   "id": "7a7e1d11",
   "metadata": {},
   "outputs": [
    {
     "data": {
      "text/plain": [
       "enchere          0\n",
       "vendus           0\n",
       "prixdepart       0\n",
       "prixvente     2997\n",
       "etat             0\n",
       "taille          68\n",
       "talon          961\n",
       "style            0\n",
       "couleur          0\n",
       "materiel         0\n",
       "dtype: int64"
      ]
     },
     "execution_count": 19,
     "metadata": {},
     "output_type": "execute_result"
    }
   ],
   "source": [
    "#Q3.1\n",
    "df.isna().sum()"
   ]
  },
  {
   "cell_type": "code",
   "execution_count": 20,
   "id": "192a547b",
   "metadata": {},
   "outputs": [
    {
     "data": {
      "text/plain": [
       "\"Les valeurs manqauntes dans cette base de donnée sont logique car les NaN sont dans la column (prixvente) et logiquement\\nsi il n y'a pas de vente y'aura pas de prix de vente\""
      ]
     },
     "execution_count": 20,
     "metadata": {},
     "output_type": "execute_result"
    }
   ],
   "source": [
    "\"\"\"Les valeurs manqauntes dans cette base de donnée sont logique car les NaN sont dans la column (prixvente) et logiquement\n",
    "si il n y'a pas de vente y'aura pas de prix de vente\"\"\" "
   ]
  },
  {
   "cell_type": "code",
   "execution_count": 21,
   "id": "0ef8e62b",
   "metadata": {},
   "outputs": [],
   "source": [
    "###La variable numerique qui contient au moins une variable manquante est le prix de vente"
   ]
  },
  {
   "cell_type": "code",
   "execution_count": 22,
   "id": "7bda6914",
   "metadata": {},
   "outputs": [
    {
     "name": "stdout",
     "output_type": "stream",
     "text": [
      "La taille la plus communne est 8.0\n"
     ]
    }
   ],
   "source": [
    "#Q4 la taille la plus communne\n",
    "f=list(df[\"taille\"].mode())\n",
    "print(f\"La taille la plus communne est {f[0]}\")"
   ]
  },
  {
   "cell_type": "code",
   "execution_count": 23,
   "id": "4541fb78",
   "metadata": {},
   "outputs": [
    {
     "data": {
      "text/html": [
       "<div>\n",
       "<style scoped>\n",
       "    .dataframe tbody tr th:only-of-type {\n",
       "        vertical-align: middle;\n",
       "    }\n",
       "\n",
       "    .dataframe tbody tr th {\n",
       "        vertical-align: top;\n",
       "    }\n",
       "\n",
       "    .dataframe thead th {\n",
       "        text-align: right;\n",
       "    }\n",
       "</style>\n",
       "<table border=\"1\" class=\"dataframe\">\n",
       "  <thead>\n",
       "    <tr style=\"text-align: right;\">\n",
       "      <th></th>\n",
       "      <th>etat</th>\n",
       "      <th>frequence</th>\n",
       "    </tr>\n",
       "  </thead>\n",
       "  <tbody>\n",
       "    <tr>\n",
       "      <th>0</th>\n",
       "      <td>Pre-owned</td>\n",
       "      <td>2367</td>\n",
       "    </tr>\n",
       "    <tr>\n",
       "      <th>1</th>\n",
       "      <td>New with box</td>\n",
       "      <td>1092</td>\n",
       "    </tr>\n",
       "    <tr>\n",
       "      <th>2</th>\n",
       "      <td>New without box</td>\n",
       "      <td>257</td>\n",
       "    </tr>\n",
       "    <tr>\n",
       "      <th>3</th>\n",
       "      <td>New with defects</td>\n",
       "      <td>80</td>\n",
       "    </tr>\n",
       "  </tbody>\n",
       "</table>\n",
       "</div>"
      ],
      "text/plain": [
       "               etat  frequence\n",
       "0         Pre-owned       2367\n",
       "1      New with box       1092\n",
       "2   New without box        257\n",
       "3  New with defects         80"
      ]
     },
     "execution_count": 23,
     "metadata": {},
     "output_type": "execute_result"
    }
   ],
   "source": [
    "#Q5\n",
    "frec1=df[\"etat\"].value_counts()\n",
    "frec1\n",
    "k1=frec1.keys()\n",
    "v1=frec1.values\n",
    "etatf=pd.DataFrame({\"etat\":k1,\"frequence\":v1})\n",
    "etatf"
   ]
  },
  {
   "cell_type": "code",
   "execution_count": 24,
   "id": "ee656f9a",
   "metadata": {},
   "outputs": [
    {
     "data": {
      "text/html": [
       "<div>\n",
       "<style scoped>\n",
       "    .dataframe tbody tr th:only-of-type {\n",
       "        vertical-align: middle;\n",
       "    }\n",
       "\n",
       "    .dataframe tbody tr th {\n",
       "        vertical-align: top;\n",
       "    }\n",
       "\n",
       "    .dataframe thead th {\n",
       "        text-align: right;\n",
       "    }\n",
       "</style>\n",
       "<table border=\"1\" class=\"dataframe\">\n",
       "  <thead>\n",
       "    <tr style=\"text-align: right;\">\n",
       "      <th></th>\n",
       "      <th>materiel</th>\n",
       "      <th>frequence</th>\n",
       "    </tr>\n",
       "  </thead>\n",
       "  <tbody>\n",
       "    <tr>\n",
       "      <th>0</th>\n",
       "      <td>Other/Missing</td>\n",
       "      <td>1172</td>\n",
       "    </tr>\n",
       "    <tr>\n",
       "      <th>1</th>\n",
       "      <td>Leather</td>\n",
       "      <td>975</td>\n",
       "    </tr>\n",
       "    <tr>\n",
       "      <th>2</th>\n",
       "      <td>Patent Leather</td>\n",
       "      <td>928</td>\n",
       "    </tr>\n",
       "    <tr>\n",
       "      <th>3</th>\n",
       "      <td>Suede</td>\n",
       "      <td>450</td>\n",
       "    </tr>\n",
       "    <tr>\n",
       "      <th>4</th>\n",
       "      <td>Satin</td>\n",
       "      <td>158</td>\n",
       "    </tr>\n",
       "    <tr>\n",
       "      <th>5</th>\n",
       "      <td>Snakeskin</td>\n",
       "      <td>113</td>\n",
       "    </tr>\n",
       "  </tbody>\n",
       "</table>\n",
       "</div>"
      ],
      "text/plain": [
       "         materiel  frequence\n",
       "0   Other/Missing       1172\n",
       "1         Leather        975\n",
       "2  Patent Leather        928\n",
       "3           Suede        450\n",
       "4           Satin        158\n",
       "5       Snakeskin        113"
      ]
     },
     "execution_count": 24,
     "metadata": {},
     "output_type": "execute_result"
    }
   ],
   "source": [
    "frec2=df[\"materiel\"].value_counts()\n",
    "frec2\n",
    "k2=frec2.keys()\n",
    "v2=frec2.values\n",
    "etatf1=pd.DataFrame({\"materiel\":k2,\"frequence\":v2})\n",
    "etatf1"
   ]
  },
  {
   "cell_type": "code",
   "execution_count": 25,
   "id": "b0d445f8",
   "metadata": {},
   "outputs": [
    {
     "data": {
      "text/html": [
       "<div>\n",
       "<style scoped>\n",
       "    .dataframe tbody tr th:only-of-type {\n",
       "        vertical-align: middle;\n",
       "    }\n",
       "\n",
       "    .dataframe tbody tr th {\n",
       "        vertical-align: top;\n",
       "    }\n",
       "\n",
       "    .dataframe thead th {\n",
       "        text-align: right;\n",
       "    }\n",
       "</style>\n",
       "<table border=\"1\" class=\"dataframe\">\n",
       "  <thead>\n",
       "    <tr style=\"text-align: right;\">\n",
       "      <th></th>\n",
       "      <th>couleur</th>\n",
       "      <th>frequence</th>\n",
       "    </tr>\n",
       "  </thead>\n",
       "  <tbody>\n",
       "    <tr>\n",
       "      <th>0</th>\n",
       "      <td>Other/Missing</td>\n",
       "      <td>1689</td>\n",
       "    </tr>\n",
       "    <tr>\n",
       "      <th>1</th>\n",
       "      <td>Black</td>\n",
       "      <td>1330</td>\n",
       "    </tr>\n",
       "    <tr>\n",
       "      <th>2</th>\n",
       "      <td>Beige</td>\n",
       "      <td>411</td>\n",
       "    </tr>\n",
       "    <tr>\n",
       "      <th>3</th>\n",
       "      <td>Red</td>\n",
       "      <td>192</td>\n",
       "    </tr>\n",
       "    <tr>\n",
       "      <th>4</th>\n",
       "      <td>Brown</td>\n",
       "      <td>174</td>\n",
       "    </tr>\n",
       "  </tbody>\n",
       "</table>\n",
       "</div>"
      ],
      "text/plain": [
       "         couleur  frequence\n",
       "0  Other/Missing       1689\n",
       "1          Black       1330\n",
       "2          Beige        411\n",
       "3            Red        192\n",
       "4          Brown        174"
      ]
     },
     "execution_count": 25,
     "metadata": {},
     "output_type": "execute_result"
    }
   ],
   "source": [
    "frec3=df[\"couleur\"].value_counts()\n",
    "frec3\n",
    "k3=frec3.keys()\n",
    "v3=frec3.values\n",
    "etatf2=pd.DataFrame({\"couleur\":k3,\"frequence\":v3})\n",
    "etatf2"
   ]
  },
  {
   "cell_type": "code",
   "execution_count": 26,
   "id": "f76dacc5",
   "metadata": {},
   "outputs": [
    {
     "data": {
      "text/html": [
       "<div>\n",
       "<style scoped>\n",
       "    .dataframe tbody tr th:only-of-type {\n",
       "        vertical-align: middle;\n",
       "    }\n",
       "\n",
       "    .dataframe tbody tr th {\n",
       "        vertical-align: top;\n",
       "    }\n",
       "\n",
       "    .dataframe thead th {\n",
       "        text-align: right;\n",
       "    }\n",
       "</style>\n",
       "<table border=\"1\" class=\"dataframe\">\n",
       "  <thead>\n",
       "    <tr style=\"text-align: right;\">\n",
       "      <th></th>\n",
       "      <th>style</th>\n",
       "      <th>frequence</th>\n",
       "    </tr>\n",
       "  </thead>\n",
       "  <tbody>\n",
       "    <tr>\n",
       "      <th>0</th>\n",
       "      <td>Pump</td>\n",
       "      <td>1719</td>\n",
       "    </tr>\n",
       "    <tr>\n",
       "      <th>1</th>\n",
       "      <td>Platform</td>\n",
       "      <td>622</td>\n",
       "    </tr>\n",
       "    <tr>\n",
       "      <th>2</th>\n",
       "      <td>Other/Missing</td>\n",
       "      <td>486</td>\n",
       "    </tr>\n",
       "    <tr>\n",
       "      <th>3</th>\n",
       "      <td>Open Toe</td>\n",
       "      <td>398</td>\n",
       "    </tr>\n",
       "    <tr>\n",
       "      <th>4</th>\n",
       "      <td>Slingback</td>\n",
       "      <td>342</td>\n",
       "    </tr>\n",
       "    <tr>\n",
       "      <th>5</th>\n",
       "      <td>Stiletto</td>\n",
       "      <td>229</td>\n",
       "    </tr>\n",
       "  </tbody>\n",
       "</table>\n",
       "</div>"
      ],
      "text/plain": [
       "           style  frequence\n",
       "0           Pump       1719\n",
       "1       Platform        622\n",
       "2  Other/Missing        486\n",
       "3       Open Toe        398\n",
       "4      Slingback        342\n",
       "5       Stiletto        229"
      ]
     },
     "execution_count": 26,
     "metadata": {},
     "output_type": "execute_result"
    }
   ],
   "source": [
    "frec4=df[\"style\"].value_counts()\n",
    "frec4\n",
    "k4=frec4.keys()\n",
    "v4=frec4.values\n",
    "etatf3=pd.DataFrame({\"style\":k4,\"frequence\":v4})\n",
    "etatf3"
   ]
  },
  {
   "cell_type": "code",
   "execution_count": 27,
   "id": "e8a7967c",
   "metadata": {},
   "outputs": [
    {
     "data": {
      "text/html": [
       "<div>\n",
       "<style scoped>\n",
       "    .dataframe tbody tr th:only-of-type {\n",
       "        vertical-align: middle;\n",
       "    }\n",
       "\n",
       "    .dataframe tbody tr th {\n",
       "        vertical-align: top;\n",
       "    }\n",
       "\n",
       "    .dataframe thead th {\n",
       "        text-align: right;\n",
       "    }\n",
       "</style>\n",
       "<table border=\"1\" class=\"dataframe\">\n",
       "  <thead>\n",
       "    <tr style=\"text-align: right;\">\n",
       "      <th></th>\n",
       "      <th>etat</th>\n",
       "      <th>fvendus</th>\n",
       "      <th>fnvendus</th>\n",
       "      <th>ftotal</th>\n",
       "    </tr>\n",
       "  </thead>\n",
       "  <tbody>\n",
       "    <tr>\n",
       "      <th>0</th>\n",
       "      <td>Pre-owned</td>\n",
       "      <td>544</td>\n",
       "      <td>1823</td>\n",
       "      <td>2367</td>\n",
       "    </tr>\n",
       "    <tr>\n",
       "      <th>1</th>\n",
       "      <td>New with box</td>\n",
       "      <td>180</td>\n",
       "      <td>912</td>\n",
       "      <td>1092</td>\n",
       "    </tr>\n",
       "    <tr>\n",
       "      <th>2</th>\n",
       "      <td>New without box</td>\n",
       "      <td>55</td>\n",
       "      <td>202</td>\n",
       "      <td>257</td>\n",
       "    </tr>\n",
       "    <tr>\n",
       "      <th>3</th>\n",
       "      <td>New with defects</td>\n",
       "      <td>20</td>\n",
       "      <td>60</td>\n",
       "      <td>80</td>\n",
       "    </tr>\n",
       "  </tbody>\n",
       "</table>\n",
       "</div>"
      ],
      "text/plain": [
       "               etat  fvendus  fnvendus  ftotal\n",
       "0         Pre-owned      544      1823    2367\n",
       "1      New with box      180       912    1092\n",
       "2   New without box       55       202     257\n",
       "3  New with defects       20        60      80"
      ]
     },
     "execution_count": 27,
     "metadata": {},
     "output_type": "execute_result"
    }
   ],
   "source": [
    "fv=vendus[\"etat\"].value_counts()\n",
    "v5=fv.values\n",
    "fnv=non_vendus[\"etat\"].value_counts()\n",
    "v6=fnv.values\n",
    "fnv\n",
    "var=pd.DataFrame({\"etat\":k1,\"fvendus\":v5,\"fnvendus\":v6,\"ftotal\":v1})\n",
    "var"
   ]
  },
  {
   "cell_type": "code",
   "execution_count": 28,
   "id": "5a6ee82a",
   "metadata": {},
   "outputs": [
    {
     "data": {
      "text/html": [
       "<div>\n",
       "<style scoped>\n",
       "    .dataframe tbody tr th:only-of-type {\n",
       "        vertical-align: middle;\n",
       "    }\n",
       "\n",
       "    .dataframe tbody tr th {\n",
       "        vertical-align: top;\n",
       "    }\n",
       "\n",
       "    .dataframe thead th {\n",
       "        text-align: right;\n",
       "    }\n",
       "</style>\n",
       "<table border=\"1\" class=\"dataframe\">\n",
       "  <thead>\n",
       "    <tr style=\"text-align: right;\">\n",
       "      <th></th>\n",
       "      <th>materiel</th>\n",
       "      <th>fvendus</th>\n",
       "      <th>fnvendus</th>\n",
       "      <th>ftotal</th>\n",
       "    </tr>\n",
       "  </thead>\n",
       "  <tbody>\n",
       "    <tr>\n",
       "      <th>0</th>\n",
       "      <td>Other/Missing</td>\n",
       "      <td>237</td>\n",
       "      <td>935</td>\n",
       "      <td>1172</td>\n",
       "    </tr>\n",
       "    <tr>\n",
       "      <th>1</th>\n",
       "      <td>Leather</td>\n",
       "      <td>215</td>\n",
       "      <td>760</td>\n",
       "      <td>975</td>\n",
       "    </tr>\n",
       "    <tr>\n",
       "      <th>2</th>\n",
       "      <td>Patent Leather</td>\n",
       "      <td>207</td>\n",
       "      <td>721</td>\n",
       "      <td>928</td>\n",
       "    </tr>\n",
       "    <tr>\n",
       "      <th>3</th>\n",
       "      <td>Suede</td>\n",
       "      <td>98</td>\n",
       "      <td>352</td>\n",
       "      <td>450</td>\n",
       "    </tr>\n",
       "    <tr>\n",
       "      <th>4</th>\n",
       "      <td>Satin</td>\n",
       "      <td>24</td>\n",
       "      <td>134</td>\n",
       "      <td>158</td>\n",
       "    </tr>\n",
       "    <tr>\n",
       "      <th>5</th>\n",
       "      <td>Snakeskin</td>\n",
       "      <td>18</td>\n",
       "      <td>95</td>\n",
       "      <td>113</td>\n",
       "    </tr>\n",
       "  </tbody>\n",
       "</table>\n",
       "</div>"
      ],
      "text/plain": [
       "         materiel  fvendus  fnvendus  ftotal\n",
       "0   Other/Missing      237       935    1172\n",
       "1         Leather      215       760     975\n",
       "2  Patent Leather      207       721     928\n",
       "3           Suede       98       352     450\n",
       "4           Satin       24       134     158\n",
       "5       Snakeskin       18        95     113"
      ]
     },
     "execution_count": 28,
     "metadata": {},
     "output_type": "execute_result"
    }
   ],
   "source": [
    "fv1=vendus[\"materiel\"].value_counts()\n",
    "v7=fv1.values\n",
    "fnv1=non_vendus[\"materiel\"].value_counts()\n",
    "v8=fnv1.values\n",
    "var1=pd.DataFrame({\"materiel\":k2,\"fvendus\":v7,\"fnvendus\":v8,\"ftotal\":v2})\n",
    "var1"
   ]
  },
  {
   "cell_type": "code",
   "execution_count": 29,
   "id": "342802a5",
   "metadata": {},
   "outputs": [
    {
     "data": {
      "text/html": [
       "<div>\n",
       "<style scoped>\n",
       "    .dataframe tbody tr th:only-of-type {\n",
       "        vertical-align: middle;\n",
       "    }\n",
       "\n",
       "    .dataframe tbody tr th {\n",
       "        vertical-align: top;\n",
       "    }\n",
       "\n",
       "    .dataframe thead th {\n",
       "        text-align: right;\n",
       "    }\n",
       "</style>\n",
       "<table border=\"1\" class=\"dataframe\">\n",
       "  <thead>\n",
       "    <tr style=\"text-align: right;\">\n",
       "      <th></th>\n",
       "      <th>couleur</th>\n",
       "      <th>fvendus</th>\n",
       "      <th>fnvendus</th>\n",
       "      <th>ftotal</th>\n",
       "    </tr>\n",
       "  </thead>\n",
       "  <tbody>\n",
       "    <tr>\n",
       "      <th>0</th>\n",
       "      <td>Other/Missing</td>\n",
       "      <td>317</td>\n",
       "      <td>1373</td>\n",
       "      <td>1689</td>\n",
       "    </tr>\n",
       "    <tr>\n",
       "      <th>1</th>\n",
       "      <td>Black</td>\n",
       "      <td>316</td>\n",
       "      <td>1013</td>\n",
       "      <td>1330</td>\n",
       "    </tr>\n",
       "    <tr>\n",
       "      <th>2</th>\n",
       "      <td>Beige</td>\n",
       "      <td>95</td>\n",
       "      <td>316</td>\n",
       "      <td>411</td>\n",
       "    </tr>\n",
       "    <tr>\n",
       "      <th>3</th>\n",
       "      <td>Red</td>\n",
       "      <td>42</td>\n",
       "      <td>150</td>\n",
       "      <td>192</td>\n",
       "    </tr>\n",
       "    <tr>\n",
       "      <th>4</th>\n",
       "      <td>Brown</td>\n",
       "      <td>29</td>\n",
       "      <td>145</td>\n",
       "      <td>174</td>\n",
       "    </tr>\n",
       "  </tbody>\n",
       "</table>\n",
       "</div>"
      ],
      "text/plain": [
       "         couleur  fvendus  fnvendus  ftotal\n",
       "0  Other/Missing      317      1373    1689\n",
       "1          Black      316      1013    1330\n",
       "2          Beige       95       316     411\n",
       "3            Red       42       150     192\n",
       "4          Brown       29       145     174"
      ]
     },
     "execution_count": 29,
     "metadata": {},
     "output_type": "execute_result"
    }
   ],
   "source": [
    "fv2=vendus[\"couleur\"].value_counts()\n",
    "v9=fv2.values\n",
    "fnv2=non_vendus[\"couleur\"].value_counts()\n",
    "v10=fnv2.values\n",
    "var2=pd.DataFrame({\"couleur\":k3,\"fvendus\":v9,\"fnvendus\":v10,\"ftotal\":v3})\n",
    "var2"
   ]
  },
  {
   "cell_type": "code",
   "execution_count": 30,
   "id": "b77354bb",
   "metadata": {},
   "outputs": [
    {
     "data": {
      "text/html": [
       "<div>\n",
       "<style scoped>\n",
       "    .dataframe tbody tr th:only-of-type {\n",
       "        vertical-align: middle;\n",
       "    }\n",
       "\n",
       "    .dataframe tbody tr th {\n",
       "        vertical-align: top;\n",
       "    }\n",
       "\n",
       "    .dataframe thead th {\n",
       "        text-align: right;\n",
       "    }\n",
       "</style>\n",
       "<table border=\"1\" class=\"dataframe\">\n",
       "  <thead>\n",
       "    <tr style=\"text-align: right;\">\n",
       "      <th></th>\n",
       "      <th>style</th>\n",
       "      <th>fvendus</th>\n",
       "      <th>fnvendus</th>\n",
       "      <th>ftotal</th>\n",
       "    </tr>\n",
       "  </thead>\n",
       "  <tbody>\n",
       "    <tr>\n",
       "      <th>0</th>\n",
       "      <td>Pump</td>\n",
       "      <td>371</td>\n",
       "      <td>1348</td>\n",
       "      <td>1719</td>\n",
       "    </tr>\n",
       "    <tr>\n",
       "      <th>1</th>\n",
       "      <td>Platform</td>\n",
       "      <td>131</td>\n",
       "      <td>515</td>\n",
       "      <td>622</td>\n",
       "    </tr>\n",
       "    <tr>\n",
       "      <th>2</th>\n",
       "      <td>Other/Missing</td>\n",
       "      <td>107</td>\n",
       "      <td>355</td>\n",
       "      <td>486</td>\n",
       "    </tr>\n",
       "    <tr>\n",
       "      <th>3</th>\n",
       "      <td>Open Toe</td>\n",
       "      <td>74</td>\n",
       "      <td>324</td>\n",
       "      <td>398</td>\n",
       "    </tr>\n",
       "    <tr>\n",
       "      <th>4</th>\n",
       "      <td>Slingback</td>\n",
       "      <td>63</td>\n",
       "      <td>289</td>\n",
       "      <td>342</td>\n",
       "    </tr>\n",
       "    <tr>\n",
       "      <th>5</th>\n",
       "      <td>Stiletto</td>\n",
       "      <td>53</td>\n",
       "      <td>166</td>\n",
       "      <td>229</td>\n",
       "    </tr>\n",
       "  </tbody>\n",
       "</table>\n",
       "</div>"
      ],
      "text/plain": [
       "           style  fvendus  fnvendus  ftotal\n",
       "0           Pump      371      1348    1719\n",
       "1       Platform      131       515     622\n",
       "2  Other/Missing      107       355     486\n",
       "3       Open Toe       74       324     398\n",
       "4      Slingback       63       289     342\n",
       "5       Stiletto       53       166     229"
      ]
     },
     "execution_count": 30,
     "metadata": {},
     "output_type": "execute_result"
    }
   ],
   "source": [
    "fv3=vendus[\"style\"].value_counts()\n",
    "v11=fv3.values\n",
    "fnv3=non_vendus[\"style\"].value_counts()\n",
    "v12=fnv3.values\n",
    "var3=pd.DataFrame({\"style\":k4,\"fvendus\":v11,\"fnvendus\":v12,\"ftotal\":v4})\n",
    "var3"
   ]
  },
  {
   "cell_type": "code",
   "execution_count": 44,
   "id": "b189e95f",
   "metadata": {},
   "outputs": [
    {
     "name": "stdout",
     "output_type": "stream",
     "text": [
      "La taill moyenne des chossures non vendus est 7.917567567567567\n"
     ]
    }
   ],
   "source": [
    "#Q6.1\n",
    "a=df.groupby(\"vendus\")[\"taille\"].mean().to_list()\n",
    "print(f\"La taill moyenne des chossures non vendus est {a[0]}\")"
   ]
  },
  {
   "cell_type": "code",
   "execution_count": 45,
   "id": "4f27ed44",
   "metadata": {},
   "outputs": [
    {
     "name": "stdout",
     "output_type": "stream",
     "text": [
      "Le prix moyen des chossures mises en enchere est 422.2814491532977\n"
     ]
    }
   ],
   "source": [
    "#Q6.2\n",
    "b=list(df.groupby(\"enchere\")[\"prixdepart\"].mean())\n",
    "print(f\"Le prix moyen des chossures mises en enchere est {b[1]}\")"
   ]
  },
  {
   "cell_type": "code",
   "execution_count": 47,
   "id": "0c909c5d",
   "metadata": {},
   "outputs": [
    {
     "name": "stdout",
     "output_type": "stream",
     "text": [
      "La valeur moyenne absolue des prix des chossures rouges est 333.81690476190477\n"
     ]
    }
   ],
   "source": [
    "#Q6.3\n",
    "dictio=df.groupby(\"couleur\")[\"prixvente\"].mean()\n",
    "rouge=dictio.to_dict()\n",
    "c=rouge[\"Red\"]\n",
    "print(f\"La valeur moyenne absolue des prix des chossures rouges est {abs(c)}\")"
   ]
  },
  {
   "cell_type": "code",
   "execution_count": 49,
   "id": "713c0159",
   "metadata": {},
   "outputs": [
    {
     "name": "stdout",
     "output_type": "stream",
     "text": [
      "L'ecart type  de la taille des talon plat est 1.919460786300394\n"
     ]
    }
   ],
   "source": [
    "#Q6.4\n",
    "d=list(df.groupby(\"talon\")[\"taille\"].std())\n",
    "print(f\"L'ecart type  de la taille des talon plat est {d[0]}\")"
   ]
  },
  {
   "cell_type": "code",
   "execution_count": 50,
   "id": "11b40b10",
   "metadata": {},
   "outputs": [
    {
     "name": "stdout",
     "output_type": "stream",
     "text": [
      "L'ecart type  de la taille des materiel cuir est 1.557963609418559\n"
     ]
    }
   ],
   "source": [
    "e=list(df.groupby(\"materiel\")[\"taille\"].std())\n",
    "print(f\"L'ecart type  de la taille des materiel cuir est {e[0]}\")"
   ]
  },
  {
   "cell_type": "code",
   "execution_count": 51,
   "id": "a6dd764e",
   "metadata": {},
   "outputs": [
    {
     "data": {
      "text/html": [
       "<div>\n",
       "<style scoped>\n",
       "    .dataframe tbody tr th:only-of-type {\n",
       "        vertical-align: middle;\n",
       "    }\n",
       "\n",
       "    .dataframe tbody tr th {\n",
       "        vertical-align: top;\n",
       "    }\n",
       "\n",
       "    .dataframe thead th {\n",
       "        text-align: right;\n",
       "    }\n",
       "</style>\n",
       "<table border=\"1\" class=\"dataframe\">\n",
       "  <thead>\n",
       "    <tr style=\"text-align: right;\">\n",
       "      <th></th>\n",
       "      <th>enchere</th>\n",
       "      <th>vendus</th>\n",
       "      <th>prixdepart</th>\n",
       "      <th>prixvente</th>\n",
       "      <th>etat</th>\n",
       "      <th>taille</th>\n",
       "      <th>talon</th>\n",
       "      <th>style</th>\n",
       "      <th>couleur</th>\n",
       "      <th>materiel</th>\n",
       "      <th>diffprix</th>\n",
       "    </tr>\n",
       "  </thead>\n",
       "  <tbody>\n",
       "    <tr>\n",
       "      <th>0</th>\n",
       "      <td>1</td>\n",
       "      <td>0</td>\n",
       "      <td>199.00</td>\n",
       "      <td>NaN</td>\n",
       "      <td>Pre-owned</td>\n",
       "      <td>9.5</td>\n",
       "      <td>Low</td>\n",
       "      <td>Open Toe</td>\n",
       "      <td>Black</td>\n",
       "      <td>Suede</td>\n",
       "      <td>NaN</td>\n",
       "    </tr>\n",
       "    <tr>\n",
       "      <th>1</th>\n",
       "      <td>0</td>\n",
       "      <td>0</td>\n",
       "      <td>375.00</td>\n",
       "      <td>NaN</td>\n",
       "      <td>New with box</td>\n",
       "      <td>7.5</td>\n",
       "      <td>High</td>\n",
       "      <td>Slingback</td>\n",
       "      <td>Other/Missing</td>\n",
       "      <td>Satin</td>\n",
       "      <td>NaN</td>\n",
       "    </tr>\n",
       "    <tr>\n",
       "      <th>2</th>\n",
       "      <td>1</td>\n",
       "      <td>1</td>\n",
       "      <td>299.99</td>\n",
       "      <td>780.0</td>\n",
       "      <td>Pre-owned</td>\n",
       "      <td>8.5</td>\n",
       "      <td>High</td>\n",
       "      <td>Pump</td>\n",
       "      <td>Black</td>\n",
       "      <td>Other/Missing</td>\n",
       "      <td>480.01</td>\n",
       "    </tr>\n",
       "    <tr>\n",
       "      <th>3</th>\n",
       "      <td>1</td>\n",
       "      <td>1</td>\n",
       "      <td>49.99</td>\n",
       "      <td>561.0</td>\n",
       "      <td>Pre-owned</td>\n",
       "      <td>8.5</td>\n",
       "      <td>High</td>\n",
       "      <td>Pump</td>\n",
       "      <td>Black</td>\n",
       "      <td>Snakeskin</td>\n",
       "      <td>511.01</td>\n",
       "    </tr>\n",
       "    <tr>\n",
       "      <th>4</th>\n",
       "      <td>0</td>\n",
       "      <td>0</td>\n",
       "      <td>89.00</td>\n",
       "      <td>NaN</td>\n",
       "      <td>Pre-owned</td>\n",
       "      <td>5.5</td>\n",
       "      <td>Flat</td>\n",
       "      <td>Other/Missing</td>\n",
       "      <td>Other/Missing</td>\n",
       "      <td>Leather</td>\n",
       "      <td>NaN</td>\n",
       "    </tr>\n",
       "    <tr>\n",
       "      <th>...</th>\n",
       "      <td>...</td>\n",
       "      <td>...</td>\n",
       "      <td>...</td>\n",
       "      <td>...</td>\n",
       "      <td>...</td>\n",
       "      <td>...</td>\n",
       "      <td>...</td>\n",
       "      <td>...</td>\n",
       "      <td>...</td>\n",
       "      <td>...</td>\n",
       "      <td>...</td>\n",
       "    </tr>\n",
       "    <tr>\n",
       "      <th>3791</th>\n",
       "      <td>0</td>\n",
       "      <td>0</td>\n",
       "      <td>78.50</td>\n",
       "      <td>NaN</td>\n",
       "      <td>New without box</td>\n",
       "      <td>NaN</td>\n",
       "      <td>NaN</td>\n",
       "      <td>Slingback</td>\n",
       "      <td>Other/Missing</td>\n",
       "      <td>Other/Missing</td>\n",
       "      <td>NaN</td>\n",
       "    </tr>\n",
       "    <tr>\n",
       "      <th>3792</th>\n",
       "      <td>0</td>\n",
       "      <td>0</td>\n",
       "      <td>899.00</td>\n",
       "      <td>NaN</td>\n",
       "      <td>New with box</td>\n",
       "      <td>8.0</td>\n",
       "      <td>High</td>\n",
       "      <td>Pump</td>\n",
       "      <td>Beige</td>\n",
       "      <td>Patent Leather</td>\n",
       "      <td>NaN</td>\n",
       "    </tr>\n",
       "    <tr>\n",
       "      <th>3793</th>\n",
       "      <td>0</td>\n",
       "      <td>0</td>\n",
       "      <td>1895.00</td>\n",
       "      <td>NaN</td>\n",
       "      <td>New with box</td>\n",
       "      <td>7.0</td>\n",
       "      <td>High</td>\n",
       "      <td>Pump</td>\n",
       "      <td>Beige</td>\n",
       "      <td>Snakeskin</td>\n",
       "      <td>NaN</td>\n",
       "    </tr>\n",
       "    <tr>\n",
       "      <th>3794</th>\n",
       "      <td>0</td>\n",
       "      <td>0</td>\n",
       "      <td>695.00</td>\n",
       "      <td>NaN</td>\n",
       "      <td>New with box</td>\n",
       "      <td>8.5</td>\n",
       "      <td>High</td>\n",
       "      <td>Pump</td>\n",
       "      <td>Black</td>\n",
       "      <td>Patent Leather</td>\n",
       "      <td>NaN</td>\n",
       "    </tr>\n",
       "    <tr>\n",
       "      <th>3795</th>\n",
       "      <td>0</td>\n",
       "      <td>1</td>\n",
       "      <td>1199.00</td>\n",
       "      <td>1199.0</td>\n",
       "      <td>New with box</td>\n",
       "      <td>5.5</td>\n",
       "      <td>High</td>\n",
       "      <td>Other/Missing</td>\n",
       "      <td>Brown</td>\n",
       "      <td>Leather</td>\n",
       "      <td>0.00</td>\n",
       "    </tr>\n",
       "  </tbody>\n",
       "</table>\n",
       "<p>3796 rows × 11 columns</p>\n",
       "</div>"
      ],
      "text/plain": [
       "      enchere  vendus  prixdepart  prixvente             etat  taille talon  \\\n",
       "0           1       0      199.00        NaN        Pre-owned     9.5   Low   \n",
       "1           0       0      375.00        NaN     New with box     7.5  High   \n",
       "2           1       1      299.99      780.0        Pre-owned     8.5  High   \n",
       "3           1       1       49.99      561.0        Pre-owned     8.5  High   \n",
       "4           0       0       89.00        NaN        Pre-owned     5.5  Flat   \n",
       "...       ...     ...         ...        ...              ...     ...   ...   \n",
       "3791        0       0       78.50        NaN  New without box     NaN   NaN   \n",
       "3792        0       0      899.00        NaN     New with box     8.0  High   \n",
       "3793        0       0     1895.00        NaN     New with box     7.0  High   \n",
       "3794        0       0      695.00        NaN     New with box     8.5  High   \n",
       "3795        0       1     1199.00     1199.0     New with box     5.5  High   \n",
       "\n",
       "              style        couleur        materiel  diffprix  \n",
       "0          Open Toe          Black           Suede       NaN  \n",
       "1         Slingback  Other/Missing           Satin       NaN  \n",
       "2              Pump          Black   Other/Missing    480.01  \n",
       "3              Pump          Black       Snakeskin    511.01  \n",
       "4     Other/Missing  Other/Missing         Leather       NaN  \n",
       "...             ...            ...             ...       ...  \n",
       "3791      Slingback  Other/Missing   Other/Missing       NaN  \n",
       "3792           Pump          Beige  Patent Leather       NaN  \n",
       "3793           Pump          Beige       Snakeskin       NaN  \n",
       "3794           Pump          Black  Patent Leather       NaN  \n",
       "3795  Other/Missing          Brown         Leather      0.00  \n",
       "\n",
       "[3796 rows x 11 columns]"
      ]
     },
     "execution_count": 51,
     "metadata": {},
     "output_type": "execute_result"
    }
   ],
   "source": [
    "#Q7.1 creation de la nouvelle variable\n",
    "df[\"diffprix\"]=df[\"prixvente\"]-df[\"prixdepart\"]\n",
    "df"
   ]
  },
  {
   "cell_type": "code",
   "execution_count": 52,
   "id": "5574cc8a",
   "metadata": {},
   "outputs": [
    {
     "data": {
      "text/plain": [
       "0.25     0.0\n",
       "0.50     0.0\n",
       "0.75    55.0\n",
       "Name: diffprix, dtype: float64"
      ]
     },
     "execution_count": 52,
     "metadata": {},
     "output_type": "execute_result"
    }
   ],
   "source": [
    "#Q7.2 Les Quartiles des chossures vendues\n",
    "vendus[\"diffprix\"].quantile([0.25,0.5,0.75])"
   ]
  },
  {
   "cell_type": "code",
   "execution_count": 53,
   "id": "cbe9794c",
   "metadata": {},
   "outputs": [
    {
     "data": {
      "text/plain": [
       "0.25      0.000\n",
       "0.50     12.385\n",
       "0.75    110.500\n",
       "Name: diffprix, dtype: float64"
      ]
     },
     "execution_count": 53,
     "metadata": {},
     "output_type": "execute_result"
    }
   ],
   "source": [
    "#Q7.2 Les Quartiles des chossures mises en enchere\n",
    "enchere[\"diffprix\"].quantile([0.25,0.5,0.75])"
   ]
  },
  {
   "cell_type": "code",
   "execution_count": 29,
   "id": "9f19c9c3",
   "metadata": {},
   "outputs": [],
   "source": [
    "\n",
    "def explode(a):\n",
    "    ex=[]\n",
    "    h=0.1\n",
    "    for i in range (1,a+1):\n",
    "        ex.append(h)\n",
    "    return tuple(ex)"
   ]
  },
  {
   "cell_type": "code",
   "execution_count": 30,
   "id": "cb809e2a",
   "metadata": {},
   "outputs": [
    {
     "data": {
      "image/png": "[encoded data removed]",
      "text/plain": [
       "<Figure size 432x288 with 1 Axes>"
      ]
     },
     "metadata": {},
     "output_type": "display_data"
    }
   ],
   "source": [
    "#Q8-les graphiques circulaires des variables quantitatives\n",
    "pie1=df[\"etat\"].value_counts()\n",
    "pie1.to_dict()\n",
    "def getList(dict):\n",
    "    return dict.keys()\n",
    "      \n",
    "\n",
    "dict = pie1.to_dict()\n",
    "\n",
    "plt.pie(pie1,labels=getList(dict),explode=explode(len(pie1)),radius=1,autopct=\"%1.1f%%\",shadow=True,startangle=90)\n",
    "plt.title(\"Graphique circulaires de la variable etat\")\n",
    "plt.show()"
   ]
  },
  {
   "cell_type": "code",
   "execution_count": 31,
   "id": "f315ab2e",
   "metadata": {},
   "outputs": [
    {
     "data": {
      "image/png": "[encoded data removed]",
      "text/plain": [
       "<Figure size 432x288 with 1 Axes>"
      ]
     },
     "metadata": {},
     "output_type": "display_data"
    }
   ],
   "source": [
    "pie2=df[\"materiel\"].value_counts()\n",
    "pie2.to_dict()\n",
    "\n",
    "      \n",
    "\n",
    "dict = pie2.to_dict()\n",
    "\n",
    "plt.pie(pie2,labels=getList(dict),explode=explode(len(pie2)),radius=1,autopct=\"%1.1f%%\",shadow=True,startangle=90)\n",
    "plt.title(\"Graphique circulaires de la variable materiel\")\n",
    "plt.show()"
   ]
  },
  {
   "cell_type": "code",
   "execution_count": 32,
   "id": "85aeb42d",
   "metadata": {},
   "outputs": [
    {
     "data": {
      "image/png": "[encoded data removed]",
      "text/plain": [
       "<Figure size 432x288 with 1 Axes>"
      ]
     },
     "metadata": {},
     "output_type": "display_data"
    }
   ],
   "source": [
    "pie3=df[\"couleur\"].value_counts()\n",
    "pie3.to_dict()\n",
    "\n",
    "\n",
    "dict = pie3.to_dict()\n",
    "\n",
    "plt.pie(pie3,labels=getList(dict),explode=explode(len(pie3)),radius=1,autopct=\"%1.1f%%\",shadow=True,startangle=90)\n",
    "plt.title(\"Graphique circulaires de la variable couleur\")\n",
    "plt.show()"
   ]
  },
  {
   "cell_type": "code",
   "execution_count": 33,
   "id": "bb85b831",
   "metadata": {},
   "outputs": [
    {
     "data": {
      "image/png": "[encoded data removed]",
      "text/plain": [
       "<Figure size 432x288 with 1 Axes>"
      ]
     },
     "metadata": {},
     "output_type": "display_data"
    }
   ],
   "source": [
    "pie4=df[\"talon\"].value_counts()\n",
    "pie4.to_dict()\n",
    "def getList(dict):\n",
    "    return dict.keys()\n",
    "      \n",
    "\n",
    "dict = pie4.to_dict()\n",
    "\n",
    "plt.pie(pie4,labels=getList(dict),explode=explode(len(pie4)),radius=1,autopct=\"%1.1f%%\",shadow=True,startangle=90)\n",
    "plt.title(\"Graphique circulaires de la variable talon\")\n",
    "plt.show()"
   ]
  },
  {
   "cell_type": "code",
   "execution_count": 66,
   "metadata": {},
   "outputs": [],
   "source": [
    "import seaborn as sns \n",
    "sns.set_theme(style=\"darkgrid\")"
   ]
  },
  {
   "cell_type": "code",
   "execution_count": 7,
   "id": "2a98c949",
   "metadata": {},
   "outputs": [
    {
     "data": {
      "image/png": "[encoded data removed]",
      "text/plain": [
       "<Figure size 640x480 with 1 Axes>"
      ]
     },
     "metadata": {},
     "output_type": "display_data"
    }
   ],
   "source": [
    "#Q9.1\n",
    "bins=[0,250,500,750,1000,1250,1500,1750,2000,2250,2500,2750,3000]\n",
    "plt.hist(df.prixdepart,bins=bins,color=\"red\")\n",
    "plt.xticks(bins,rotation=\"vertical\")\n",
    "plt.xlabel(\"Prix de depart\")\n",
    "plt.ylabel(\"Chossures\")\n",
    "plt.title(\"Histogramme des prix de depart\")\n",
    "plt.show()"
   ]
  },
  {
   "cell_type": "code",
   "execution_count": 8,
   "id": "5cafa4b2",
   "metadata": {
    "scrolled": false
   },
   "outputs": [
    {
     "data": {
      "image/png": "[encoded data removed]",
      "text/plain": [
       "<Figure size 640x480 with 1 Axes>"
      ]
     },
     "metadata": {},
     "output_type": "display_data"
    }
   ],
   "source": [
    "#Q9.2\n",
    "plt.xlabel(\"Prix de vente\")\n",
    "plt.ylabel(\"Chossures vendues\")\n",
    "plt.hist(vendus.prixvente)\n",
    "plt.title(\"Histogramme des prix de vente\")\n",
    "plt.show()"
   ]
  },
  {
   "cell_type": "code",
   "execution_count": 12,
   "id": "7eab22ff",
   "metadata": {},
   "outputs": [
    {
     "data": {
      "image/png": "[encoded data removed]",
      "text/plain": [
       "<Figure size 640x480 with 1 Axes>"
      ]
     },
     "metadata": {},
     "output_type": "display_data"
    }
   ],
   "source": [
    "#Q.3 les boites a moustaches\n",
    "bins2=[0,1000,2000,3000,4000,5000]\n",
    "plt.style.use(\"default\")\n",
    "plt.boxplot([df.prixdepart,vendus.prixvente])\n",
    "plt.yticks(bins2)\n",
    "plt.title(\"Boite a moustaches pour les prix de depart(1) et les prix de vente(2)\")\n",
    "plt.show()"
   ]
  },
  {
   "cell_type": "code",
   "execution_count": 56,
   "id": "f84399e8",
   "metadata": {},
   "outputs": [
    {
     "data": {
      "text/html": [
       "<div>\n",
       "<style scoped>\n",
       "    .dataframe tbody tr th:only-of-type {\n",
       "        vertical-align: middle;\n",
       "    }\n",
       "\n",
       "    .dataframe tbody tr th {\n",
       "        vertical-align: top;\n",
       "    }\n",
       "\n",
       "    .dataframe thead th {\n",
       "        text-align: right;\n",
       "    }\n",
       "</style>\n",
       "<table border=\"1\" class=\"dataframe\">\n",
       "  <thead>\n",
       "    <tr style=\"text-align: right;\">\n",
       "      <th></th>\n",
       "      <th>enchere</th>\n",
       "      <th>vendus</th>\n",
       "      <th>prixdepart</th>\n",
       "      <th>prixvente</th>\n",
       "      <th>etat</th>\n",
       "      <th>taille</th>\n",
       "      <th>talon</th>\n",
       "      <th>style</th>\n",
       "      <th>couleur</th>\n",
       "      <th>materiel</th>\n",
       "      <th>diffprix</th>\n",
       "    </tr>\n",
       "  </thead>\n",
       "  <tbody>\n",
       "    <tr>\n",
       "      <th>2</th>\n",
       "      <td>1</td>\n",
       "      <td>1</td>\n",
       "      <td>299.99</td>\n",
       "      <td>780.00</td>\n",
       "      <td>Pre-owned</td>\n",
       "      <td>8.5</td>\n",
       "      <td>High</td>\n",
       "      <td>Pump</td>\n",
       "      <td>Black</td>\n",
       "      <td>Other/Missing</td>\n",
       "      <td>480.01</td>\n",
       "    </tr>\n",
       "    <tr>\n",
       "      <th>3</th>\n",
       "      <td>1</td>\n",
       "      <td>1</td>\n",
       "      <td>49.99</td>\n",
       "      <td>561.00</td>\n",
       "      <td>Pre-owned</td>\n",
       "      <td>8.5</td>\n",
       "      <td>High</td>\n",
       "      <td>Pump</td>\n",
       "      <td>Black</td>\n",
       "      <td>Snakeskin</td>\n",
       "      <td>511.01</td>\n",
       "    </tr>\n",
       "    <tr>\n",
       "      <th>5</th>\n",
       "      <td>1</td>\n",
       "      <td>1</td>\n",
       "      <td>50.00</td>\n",
       "      <td>202.50</td>\n",
       "      <td>New with box</td>\n",
       "      <td>8.5</td>\n",
       "      <td>High</td>\n",
       "      <td>Platform</td>\n",
       "      <td>Black</td>\n",
       "      <td>Patent Leather</td>\n",
       "      <td>152.50</td>\n",
       "    </tr>\n",
       "    <tr>\n",
       "      <th>6</th>\n",
       "      <td>1</td>\n",
       "      <td>1</td>\n",
       "      <td>250.00</td>\n",
       "      <td>300.01</td>\n",
       "      <td>Pre-owned</td>\n",
       "      <td>10.0</td>\n",
       "      <td>NaN</td>\n",
       "      <td>Other/Missing</td>\n",
       "      <td>Black</td>\n",
       "      <td>Other/Missing</td>\n",
       "      <td>50.01</td>\n",
       "    </tr>\n",
       "    <tr>\n",
       "      <th>8</th>\n",
       "      <td>0</td>\n",
       "      <td>1</td>\n",
       "      <td>450.00</td>\n",
       "      <td>450.00</td>\n",
       "      <td>Pre-owned</td>\n",
       "      <td>9.0</td>\n",
       "      <td>High</td>\n",
       "      <td>Pump</td>\n",
       "      <td>Black</td>\n",
       "      <td>Patent Leather</td>\n",
       "      <td>0.00</td>\n",
       "    </tr>\n",
       "    <tr>\n",
       "      <th>...</th>\n",
       "      <td>...</td>\n",
       "      <td>...</td>\n",
       "      <td>...</td>\n",
       "      <td>...</td>\n",
       "      <td>...</td>\n",
       "      <td>...</td>\n",
       "      <td>...</td>\n",
       "      <td>...</td>\n",
       "      <td>...</td>\n",
       "      <td>...</td>\n",
       "      <td>...</td>\n",
       "    </tr>\n",
       "    <tr>\n",
       "      <th>3735</th>\n",
       "      <td>0</td>\n",
       "      <td>1</td>\n",
       "      <td>375.00</td>\n",
       "      <td>375.00</td>\n",
       "      <td>Pre-owned</td>\n",
       "      <td>8.0</td>\n",
       "      <td>High</td>\n",
       "      <td>Open Toe</td>\n",
       "      <td>Brown</td>\n",
       "      <td>Snakeskin</td>\n",
       "      <td>0.00</td>\n",
       "    </tr>\n",
       "    <tr>\n",
       "      <th>3738</th>\n",
       "      <td>0</td>\n",
       "      <td>1</td>\n",
       "      <td>180.00</td>\n",
       "      <td>180.00</td>\n",
       "      <td>Pre-owned</td>\n",
       "      <td>10.0</td>\n",
       "      <td>High</td>\n",
       "      <td>Platform</td>\n",
       "      <td>Other/Missing</td>\n",
       "      <td>Patent Leather</td>\n",
       "      <td>0.00</td>\n",
       "    </tr>\n",
       "    <tr>\n",
       "      <th>3741</th>\n",
       "      <td>0</td>\n",
       "      <td>1</td>\n",
       "      <td>599.00</td>\n",
       "      <td>599.00</td>\n",
       "      <td>New with box</td>\n",
       "      <td>8.5</td>\n",
       "      <td>High</td>\n",
       "      <td>Other/Missing</td>\n",
       "      <td>Black</td>\n",
       "      <td>Patent Leather</td>\n",
       "      <td>0.00</td>\n",
       "    </tr>\n",
       "    <tr>\n",
       "      <th>3775</th>\n",
       "      <td>0</td>\n",
       "      <td>1</td>\n",
       "      <td>499.00</td>\n",
       "      <td>499.00</td>\n",
       "      <td>New with box</td>\n",
       "      <td>9.0</td>\n",
       "      <td>High</td>\n",
       "      <td>Other/Missing</td>\n",
       "      <td>Black</td>\n",
       "      <td>Patent Leather</td>\n",
       "      <td>0.00</td>\n",
       "    </tr>\n",
       "    <tr>\n",
       "      <th>3795</th>\n",
       "      <td>0</td>\n",
       "      <td>1</td>\n",
       "      <td>1199.00</td>\n",
       "      <td>1199.00</td>\n",
       "      <td>New with box</td>\n",
       "      <td>5.5</td>\n",
       "      <td>High</td>\n",
       "      <td>Other/Missing</td>\n",
       "      <td>Brown</td>\n",
       "      <td>Leather</td>\n",
       "      <td>0.00</td>\n",
       "    </tr>\n",
       "  </tbody>\n",
       "</table>\n",
       "<p>799 rows × 11 columns</p>\n",
       "</div>"
      ],
      "text/plain": [
       "      enchere  vendus  prixdepart  prixvente          etat  taille talon  \\\n",
       "2           1       1      299.99     780.00     Pre-owned     8.5  High   \n",
       "3           1       1       49.99     561.00     Pre-owned     8.5  High   \n",
       "5           1       1       50.00     202.50  New with box     8.5  High   \n",
       "6           1       1      250.00     300.01     Pre-owned    10.0   NaN   \n",
       "8           0       1      450.00     450.00     Pre-owned     9.0  High   \n",
       "...       ...     ...         ...        ...           ...     ...   ...   \n",
       "3735        0       1      375.00     375.00     Pre-owned     8.0  High   \n",
       "3738        0       1      180.00     180.00     Pre-owned    10.0  High   \n",
       "3741        0       1      599.00     599.00  New with box     8.5  High   \n",
       "3775        0       1      499.00     499.00  New with box     9.0  High   \n",
       "3795        0       1     1199.00    1199.00  New with box     5.5  High   \n",
       "\n",
       "              style        couleur        materiel  diffprix  \n",
       "2              Pump          Black   Other/Missing    480.01  \n",
       "3              Pump          Black       Snakeskin    511.01  \n",
       "5          Platform          Black  Patent Leather    152.50  \n",
       "6     Other/Missing          Black   Other/Missing     50.01  \n",
       "8              Pump          Black  Patent Leather      0.00  \n",
       "...             ...            ...             ...       ...  \n",
       "3735       Open Toe          Brown       Snakeskin      0.00  \n",
       "3738       Platform  Other/Missing  Patent Leather      0.00  \n",
       "3741  Other/Missing          Black  Patent Leather      0.00  \n",
       "3775  Other/Missing          Black  Patent Leather      0.00  \n",
       "3795  Other/Missing          Brown         Leather      0.00  \n",
       "\n",
       "[799 rows x 11 columns]"
      ]
     },
     "execution_count": 56,
     "metadata": {},
     "output_type": "execute_result"
    }
   ],
   "source": [
    "vendus"
   ]
  },
  {
   "cell_type": "code",
   "execution_count": 60,
   "id": "93f525fd",
   "metadata": {},
   "outputs": [
    {
     "data": {
      "image/png": "[encoded data removed]",
      "text/plain": [
       "<Figure size 640x480 with 1 Axes>"
      ]
     },
     "metadata": {},
     "output_type": "display_data"
    },
    {
     "data": {
      "image/png": "[encoded data removed]",
      "text/plain": [
       "<Figure size 640x480 with 1 Axes>"
      ]
     },
     "metadata": {},
     "output_type": "display_data"
    }
   ],
   "source": [
    "for i in [df.prixdepart,vendus.prixvente] :\n",
    "    sns.boxplot(x= i ,data=vendus)\n",
    "    plt.show()"
   ]
  },
  {
   "cell_type": "code",
   "execution_count": 61,
   "id": "2926ee39",
   "metadata": {},
   "outputs": [
    {
     "data": {
      "image/png": "[encoded data removed]",
      "text/plain": [
       "<Figure size 640x480 with 1 Axes>"
      ]
     },
     "metadata": {},
     "output_type": "display_data"
    }
   ],
   "source": [
    "#Q10.1\n",
    "enchere1=vendus.loc[vendus[\"enchere\"]==1]\n",
    "enchere0=vendus.loc[vendus[\"enchere\"]==0]\n",
    "plt.style.use(\"default\")\n",
    "plt.boxplot([enchere1.prixvente,enchere0.prixvente])\n",
    "plt.title(\"Boite a moustaches des chossures vendus et mises en enchere(1) et les non mises en enchere\")\n",
    "plt.show()"
   ]
  },
  {
   "cell_type": "code",
   "execution_count": 63,
   "id": "de809cfb",
   "metadata": {
    "scrolled": false
   },
   "outputs": [
    {
     "data": {
      "image/png": "[encoded data removed]",
      "text/plain": [
       "<Figure size 640x480 with 1 Axes>"
      ]
     },
     "metadata": {},
     "output_type": "display_data"
    }
   ],
   "source": [
    "#Q10.2\n",
    "et=vendus.groupby(\"etat\")[\"prixvente\"].mean()\n",
    "v=[x for x ,i in vendus.groupby(\"etat\")]\n",
    "plt.bar(v,et)\n",
    "plt.xticks(v,rotation=\"vertical\")\n",
    "#plt.title()\n",
    "plt.show()"
   ]
  },
  {
   "cell_type": "code",
   "execution_count": null,
   "id": "fa2a34db",
   "metadata": {},
   "outputs": [],
   "source": [
    "#j'ai rencontrer des difficulté en dessinant l histogramme donc j'ai fait le Bar chart "
   ]
  },
  {
   "cell_type": "code",
   "execution_count": 64,
   "id": "01d6915b",
   "metadata": {
    "scrolled": false
   },
   "outputs": [
    {
     "data": {
      "image/png": "[encoded data removed]",
      "text/plain": [
       "<Figure size 640x480 with 1 Axes>"
      ]
     },
     "metadata": {},
     "output_type": "display_data"
    }
   ],
   "source": [
    "#Q11\n",
    "taille=df[\"taille\"].value_counts().sort_values(ascending=False)\n",
    "taille.to_dict()\n",
    "def getList(dict):\n",
    "    return dict.keys()\n",
    "      \n",
    "\n",
    "dict = taille.to_dict()\n",
    "plt.bar(getList(dict),taille,width=0.3,color=\"grey\")\n",
    "plt.xticks(rotation=\"vertical\")\n",
    "plt.title(\"Graphique a Bar pour la taille des chossures\")\n",
    "plt.show()"
   ]
  },
  {
   "cell_type": "code",
   "execution_count": 67,
   "id": "5eceb66d",
   "metadata": {
    "scrolled": false
   },
   "outputs": [
    {
     "data": {
      "image/png": "[encoded data removed]",
      "text/plain": [
       "<Figure size 640x480 with 1 Axes>"
      ]
     },
     "metadata": {},
     "output_type": "display_data"
    }
   ],
   "source": [
    "#Q11.2\n",
    "plt.hist(df[\"taille\"])\n",
    "plt.xticks(rotation=\"vertical\")\n",
    "plt.title(\"Hist pour la taille des chossures\")\n",
    "plt.show()"
   ]
  },
  {
   "cell_type": "code",
   "execution_count": null,
   "id": "2146ce6d",
   "metadata": {},
   "outputs": [],
   "source": [
    "#Q11.3\n",
    "#le graphique approprié a cette variable est l'histogramme car c'est des variables quantitatives "
   ]
  },
  {
   "cell_type": "code",
   "execution_count": 71,
   "id": "e4123d4f",
   "metadata": {},
   "outputs": [
    {
     "data": {
      "image/png": "[encoded data removed]",
      "text/plain": [
       "<Figure size 640x480 with 4 Axes>"
      ]
     },
     "metadata": {},
     "output_type": "display_data"
    }
   ],
   "source": [
    "inte=df[\"talon\"].apply(str)\n",
    "plt.subplot(2,2,1)\n",
    "plt.scatter(df[\"prixvente\"],df[\"etat\"],c=\"coral\")\n",
    "plt.subplot(2,2,2)\n",
    "plt.scatter(df[\"prixvente\"],df[\"taille\"],c=\"green\")\n",
    "plt.subplot(2,2,3)\n",
    "plt.scatter(df[\"prixvente\"],df[\"couleur\"],c=\"purple\")\n",
    "plt.subplot(2,2,4)\n",
    "plt.scatter(df[\"prixdepart\"],inte,c=\"red\")\n",
    "plt.show()"
   ]
  },
  {
   "cell_type": "code",
   "execution_count": 72,
   "id": "11e835ce",
   "metadata": {
    "scrolled": false
   },
   "outputs": [
    {
     "data": {
      "image/png": "[encoded data removed]",
      "text/plain": [
       "<Figure size 640x480 with 1 Axes>"
      ]
     },
     "metadata": {},
     "output_type": "display_data"
    }
   ],
   "source": [
    "plt.scatter(df[\"prixvente\"],df[\"prixdepart\"],c=\"lightblue\",s=10);"
   ]
  }
 ],
 "metadata": {
  "kernelspec": {
   "display_name": "Python 3",
   "language": "python",
   "name": "python3"
  },
  "language_info": {
   "codemirror_mode": {
    "name": "ipython",
    "version": 3
   },
   "file_extension": ".py",
   "mimetype": "text/x-python",
   "name": "python",
   "nbconvert_exporter": "python",
   "pygments_lexer": "ipython3",
   "version": "3.11.3"
  }
 },
 "nbformat": 4,
 "nbformat_minor": 5
}
